{
 "cells": [
  {
   "cell_type": "markdown",
   "id": "78b0fefd",
   "metadata": {},
   "source": [
    "# 1.Importing Required Package"
   ]
  },
  {
   "cell_type": "code",
   "execution_count": 1,
   "id": "fef91440",
   "metadata": {},
   "outputs": [],
   "source": [
    "import pandas as pd \n",
    "import seaborn as sns \n",
    "import numpy as np \n",
    "from matplotlib import pyplot as plt\n",
    "%matplotlib inline"
   ]
  },
  {
   "cell_type": "markdown",
   "id": "16929122",
   "metadata": {},
   "source": [
    "# 2.Loading the Dataset"
   ]
  },
  {
   "cell_type": "code",
   "execution_count": 3,
   "id": "f6a0c002",
   "metadata": {},
   "outputs": [
    {
     "data": {
      "text/html": [
       "<div>\n",
       "<style scoped>\n",
       "    .dataframe tbody tr th:only-of-type {\n",
       "        vertical-align: middle;\n",
       "    }\n",
       "\n",
       "    .dataframe tbody tr th {\n",
       "        vertical-align: top;\n",
       "    }\n",
       "\n",
       "    .dataframe thead th {\n",
       "        text-align: right;\n",
       "    }\n",
       "</style>\n",
       "<table border=\"1\" class=\"dataframe\">\n",
       "  <thead>\n",
       "    <tr style=\"text-align: right;\">\n",
       "      <th></th>\n",
       "      <th>Sex</th>\n",
       "      <th>Length</th>\n",
       "      <th>Diameter</th>\n",
       "      <th>Height</th>\n",
       "      <th>Whole weight</th>\n",
       "      <th>Shucked weight</th>\n",
       "      <th>Viscera weight</th>\n",
       "      <th>Shell weight</th>\n",
       "      <th>Rings</th>\n",
       "    </tr>\n",
       "  </thead>\n",
       "  <tbody>\n",
       "    <tr>\n",
       "      <th>0</th>\n",
       "      <td>M</td>\n",
       "      <td>0.455</td>\n",
       "      <td>0.365</td>\n",
       "      <td>0.095</td>\n",
       "      <td>0.5140</td>\n",
       "      <td>0.2245</td>\n",
       "      <td>0.1010</td>\n",
       "      <td>0.1500</td>\n",
       "      <td>15</td>\n",
       "    </tr>\n",
       "    <tr>\n",
       "      <th>1</th>\n",
       "      <td>M</td>\n",
       "      <td>0.350</td>\n",
       "      <td>0.265</td>\n",
       "      <td>0.090</td>\n",
       "      <td>0.2255</td>\n",
       "      <td>0.0995</td>\n",
       "      <td>0.0485</td>\n",
       "      <td>0.0700</td>\n",
       "      <td>7</td>\n",
       "    </tr>\n",
       "    <tr>\n",
       "      <th>2</th>\n",
       "      <td>F</td>\n",
       "      <td>0.530</td>\n",
       "      <td>0.420</td>\n",
       "      <td>0.135</td>\n",
       "      <td>0.6770</td>\n",
       "      <td>0.2565</td>\n",
       "      <td>0.1415</td>\n",
       "      <td>0.2100</td>\n",
       "      <td>9</td>\n",
       "    </tr>\n",
       "    <tr>\n",
       "      <th>3</th>\n",
       "      <td>M</td>\n",
       "      <td>0.440</td>\n",
       "      <td>0.365</td>\n",
       "      <td>0.125</td>\n",
       "      <td>0.5160</td>\n",
       "      <td>0.2155</td>\n",
       "      <td>0.1140</td>\n",
       "      <td>0.1550</td>\n",
       "      <td>10</td>\n",
       "    </tr>\n",
       "    <tr>\n",
       "      <th>4</th>\n",
       "      <td>I</td>\n",
       "      <td>0.330</td>\n",
       "      <td>0.255</td>\n",
       "      <td>0.080</td>\n",
       "      <td>0.2050</td>\n",
       "      <td>0.0895</td>\n",
       "      <td>0.0395</td>\n",
       "      <td>0.0550</td>\n",
       "      <td>7</td>\n",
       "    </tr>\n",
       "    <tr>\n",
       "      <th>...</th>\n",
       "      <td>...</td>\n",
       "      <td>...</td>\n",
       "      <td>...</td>\n",
       "      <td>...</td>\n",
       "      <td>...</td>\n",
       "      <td>...</td>\n",
       "      <td>...</td>\n",
       "      <td>...</td>\n",
       "      <td>...</td>\n",
       "    </tr>\n",
       "    <tr>\n",
       "      <th>4172</th>\n",
       "      <td>F</td>\n",
       "      <td>0.565</td>\n",
       "      <td>0.450</td>\n",
       "      <td>0.165</td>\n",
       "      <td>0.8870</td>\n",
       "      <td>0.3700</td>\n",
       "      <td>0.2390</td>\n",
       "      <td>0.2490</td>\n",
       "      <td>11</td>\n",
       "    </tr>\n",
       "    <tr>\n",
       "      <th>4173</th>\n",
       "      <td>M</td>\n",
       "      <td>0.590</td>\n",
       "      <td>0.440</td>\n",
       "      <td>0.135</td>\n",
       "      <td>0.9660</td>\n",
       "      <td>0.4390</td>\n",
       "      <td>0.2145</td>\n",
       "      <td>0.2605</td>\n",
       "      <td>10</td>\n",
       "    </tr>\n",
       "    <tr>\n",
       "      <th>4174</th>\n",
       "      <td>M</td>\n",
       "      <td>0.600</td>\n",
       "      <td>0.475</td>\n",
       "      <td>0.205</td>\n",
       "      <td>1.1760</td>\n",
       "      <td>0.5255</td>\n",
       "      <td>0.2875</td>\n",
       "      <td>0.3080</td>\n",
       "      <td>9</td>\n",
       "    </tr>\n",
       "    <tr>\n",
       "      <th>4175</th>\n",
       "      <td>F</td>\n",
       "      <td>0.625</td>\n",
       "      <td>0.485</td>\n",
       "      <td>0.150</td>\n",
       "      <td>1.0945</td>\n",
       "      <td>0.5310</td>\n",
       "      <td>0.2610</td>\n",
       "      <td>0.2960</td>\n",
       "      <td>10</td>\n",
       "    </tr>\n",
       "    <tr>\n",
       "      <th>4176</th>\n",
       "      <td>M</td>\n",
       "      <td>0.710</td>\n",
       "      <td>0.555</td>\n",
       "      <td>0.195</td>\n",
       "      <td>1.9485</td>\n",
       "      <td>0.9455</td>\n",
       "      <td>0.3765</td>\n",
       "      <td>0.4950</td>\n",
       "      <td>12</td>\n",
       "    </tr>\n",
       "  </tbody>\n",
       "</table>\n",
       "<p>4177 rows × 9 columns</p>\n",
       "</div>"
      ],
      "text/plain": [
       "     Sex  Length  Diameter  Height  Whole weight  Shucked weight  \\\n",
       "0      M   0.455     0.365   0.095        0.5140          0.2245   \n",
       "1      M   0.350     0.265   0.090        0.2255          0.0995   \n",
       "2      F   0.530     0.420   0.135        0.6770          0.2565   \n",
       "3      M   0.440     0.365   0.125        0.5160          0.2155   \n",
       "4      I   0.330     0.255   0.080        0.2050          0.0895   \n",
       "...   ..     ...       ...     ...           ...             ...   \n",
       "4172   F   0.565     0.450   0.165        0.8870          0.3700   \n",
       "4173   M   0.590     0.440   0.135        0.9660          0.4390   \n",
       "4174   M   0.600     0.475   0.205        1.1760          0.5255   \n",
       "4175   F   0.625     0.485   0.150        1.0945          0.5310   \n",
       "4176   M   0.710     0.555   0.195        1.9485          0.9455   \n",
       "\n",
       "      Viscera weight  Shell weight  Rings  \n",
       "0             0.1010        0.1500     15  \n",
       "1             0.0485        0.0700      7  \n",
       "2             0.1415        0.2100      9  \n",
       "3             0.1140        0.1550     10  \n",
       "4             0.0395        0.0550      7  \n",
       "...              ...           ...    ...  \n",
       "4172          0.2390        0.2490     11  \n",
       "4173          0.2145        0.2605     10  \n",
       "4174          0.2875        0.3080      9  \n",
       "4175          0.2610        0.2960     10  \n",
       "4176          0.3765        0.4950     12  \n",
       "\n",
       "[4177 rows x 9 columns]"
      ]
     },
     "execution_count": 3,
     "metadata": {},
     "output_type": "execute_result"
    }
   ],
   "source": [
    "df=pd.read_csv(\"C:\\\\Users\\\\Sandhya Jayaraman\\\\Downloads\\\\abalone.csv\") \n",
    "df"
   ]
  },
  {
   "cell_type": "markdown",
   "id": "ca880cb0",
   "metadata": {},
   "source": [
    "# 3.Visualizations"
   ]
  },
  {
   "cell_type": "markdown",
   "id": "49a09768",
   "metadata": {},
   "source": [
    "# 3.1 Univariate Analysis #"
   ]
  },
  {
   "cell_type": "code",
   "execution_count": 4,
   "id": "052b4dc4",
   "metadata": {},
   "outputs": [
    {
     "data": {
      "text/plain": [
       "<seaborn.axisgrid.FacetGrid at 0x1ca06fdfd48>"
      ]
     },
     "execution_count": 4,
     "metadata": {},
     "output_type": "execute_result"
    },
    {
     "data": {
      "image/png": "[encoded data removed]",
      "text/plain": [
       "<Figure size 360x360 with 1 Axes>"
      ]
     },
     "metadata": {
      "needs_background": "light"
     },
     "output_type": "display_data"
    }
   ],
   "source": [
    "sns.displot(df.Sex)"
   ]
  },
  {
   "cell_type": "markdown",
   "id": "49b16f2f",
   "metadata": {},
   "source": [
    "# 3.2 Bi-Variate Analysis "
   ]
  },
  {
   "cell_type": "code",
   "execution_count": 5,
   "id": "8457dd88",
   "metadata": {},
   "outputs": [
    {
     "data": {
      "text/plain": [
       "<AxesSubplot:>"
      ]
     },
     "execution_count": 5,
     "metadata": {},
     "output_type": "execute_result"
    },
    {
     "data": {
      "image/png": "[encoded data removed]",
      "text/plain": [
       "<Figure size 432x288 with 1 Axes>"
      ]
     },
     "metadata": {
      "needs_background": "light"
     },
     "output_type": "display_data"
    }
   ],
   "source": [
    "df.plot.line()"
   ]
  },
  {
   "cell_type": "markdown",
   "id": "3490b067",
   "metadata": {},
   "source": [
    "# 3.3 Multi-Variate Analysis"
   ]
  },
  {
   "cell_type": "code",
   "execution_count": 6,
   "id": "abef6c03",
   "metadata": {},
   "outputs": [
    {
     "name": "stderr",
     "output_type": "stream",
     "text": [
      "c:\\users\\sandhya jayaraman\\appdata\\local\\programs\\python\\python37\\lib\\site-packages\\seaborn\\_decorators.py:43: FutureWarning: Pass the following variables as keyword args: x, y, data. From version 0.12, the only valid positional argument will be `data`, and passing other arguments without an explicit keyword will result in an error or misinterpretation.\n",
      "  FutureWarning\n"
     ]
    },
    {
     "data": {
      "image/png": "[encoded data removed]",
      "text/plain": [
       "<Figure size 424.625x360 with 1 Axes>"
      ]
     },
     "metadata": {
      "needs_background": "light"
     },
     "output_type": "display_data"
    }
   ],
   "source": [
    "sns.lmplot(\"Diameter\",\"Length\",df,hue=\"Length\",fit_reg=False);"
   ]
  },
  {
   "cell_type": "markdown",
   "id": "95103083",
   "metadata": {},
   "source": [
    "# 4.Perform descriptive statistics on the dataset."
   ]
  },
  {
   "cell_type": "code",
   "execution_count": 7,
   "id": "56b23140",
   "metadata": {},
   "outputs": [
    {
     "data": {
      "text/html": [
       "<div>\n",
       "<style scoped>\n",
       "    .dataframe tbody tr th:only-of-type {\n",
       "        vertical-align: middle;\n",
       "    }\n",
       "\n",
       "    .dataframe tbody tr th {\n",
       "        vertical-align: top;\n",
       "    }\n",
       "\n",
       "    .dataframe thead th {\n",
       "        text-align: right;\n",
       "    }\n",
       "</style>\n",
       "<table border=\"1\" class=\"dataframe\">\n",
       "  <thead>\n",
       "    <tr style=\"text-align: right;\">\n",
       "      <th></th>\n",
       "      <th>Length</th>\n",
       "      <th>Diameter</th>\n",
       "      <th>Height</th>\n",
       "      <th>Whole weight</th>\n",
       "      <th>Shucked weight</th>\n",
       "      <th>Viscera weight</th>\n",
       "      <th>Shell weight</th>\n",
       "      <th>Rings</th>\n",
       "    </tr>\n",
       "  </thead>\n",
       "  <tbody>\n",
       "    <tr>\n",
       "      <th>count</th>\n",
       "      <td>4177.000000</td>\n",
       "      <td>4177.000000</td>\n",
       "      <td>4177.000000</td>\n",
       "      <td>4177.000000</td>\n",
       "      <td>4177.000000</td>\n",
       "      <td>4177.000000</td>\n",
       "      <td>4177.000000</td>\n",
       "      <td>4177.000000</td>\n",
       "    </tr>\n",
       "    <tr>\n",
       "      <th>mean</th>\n",
       "      <td>0.523992</td>\n",
       "      <td>0.407881</td>\n",
       "      <td>0.139516</td>\n",
       "      <td>0.828742</td>\n",
       "      <td>0.359367</td>\n",
       "      <td>0.180594</td>\n",
       "      <td>0.238831</td>\n",
       "      <td>9.933684</td>\n",
       "    </tr>\n",
       "    <tr>\n",
       "      <th>std</th>\n",
       "      <td>0.120093</td>\n",
       "      <td>0.099240</td>\n",
       "      <td>0.041827</td>\n",
       "      <td>0.490389</td>\n",
       "      <td>0.221963</td>\n",
       "      <td>0.109614</td>\n",
       "      <td>0.139203</td>\n",
       "      <td>3.224169</td>\n",
       "    </tr>\n",
       "    <tr>\n",
       "      <th>min</th>\n",
       "      <td>0.075000</td>\n",
       "      <td>0.055000</td>\n",
       "      <td>0.000000</td>\n",
       "      <td>0.002000</td>\n",
       "      <td>0.001000</td>\n",
       "      <td>0.000500</td>\n",
       "      <td>0.001500</td>\n",
       "      <td>1.000000</td>\n",
       "    </tr>\n",
       "    <tr>\n",
       "      <th>25%</th>\n",
       "      <td>0.450000</td>\n",
       "      <td>0.350000</td>\n",
       "      <td>0.115000</td>\n",
       "      <td>0.441500</td>\n",
       "      <td>0.186000</td>\n",
       "      <td>0.093500</td>\n",
       "      <td>0.130000</td>\n",
       "      <td>8.000000</td>\n",
       "    </tr>\n",
       "    <tr>\n",
       "      <th>50%</th>\n",
       "      <td>0.545000</td>\n",
       "      <td>0.425000</td>\n",
       "      <td>0.140000</td>\n",
       "      <td>0.799500</td>\n",
       "      <td>0.336000</td>\n",
       "      <td>0.171000</td>\n",
       "      <td>0.234000</td>\n",
       "      <td>9.000000</td>\n",
       "    </tr>\n",
       "    <tr>\n",
       "      <th>75%</th>\n",
       "      <td>0.615000</td>\n",
       "      <td>0.480000</td>\n",
       "      <td>0.165000</td>\n",
       "      <td>1.153000</td>\n",
       "      <td>0.502000</td>\n",
       "      <td>0.253000</td>\n",
       "      <td>0.329000</td>\n",
       "      <td>11.000000</td>\n",
       "    </tr>\n",
       "    <tr>\n",
       "      <th>max</th>\n",
       "      <td>0.815000</td>\n",
       "      <td>0.650000</td>\n",
       "      <td>1.130000</td>\n",
       "      <td>2.825500</td>\n",
       "      <td>1.488000</td>\n",
       "      <td>0.760000</td>\n",
       "      <td>1.005000</td>\n",
       "      <td>29.000000</td>\n",
       "    </tr>\n",
       "  </tbody>\n",
       "</table>\n",
       "</div>"
      ],
      "text/plain": [
       "            Length     Diameter       Height  Whole weight  Shucked weight  \\\n",
       "count  4177.000000  4177.000000  4177.000000   4177.000000     4177.000000   \n",
       "mean      0.523992     0.407881     0.139516      0.828742        0.359367   \n",
       "std       0.120093     0.099240     0.041827      0.490389        0.221963   \n",
       "min       0.075000     0.055000     0.000000      0.002000        0.001000   \n",
       "25%       0.450000     0.350000     0.115000      0.441500        0.186000   \n",
       "50%       0.545000     0.425000     0.140000      0.799500        0.336000   \n",
       "75%       0.615000     0.480000     0.165000      1.153000        0.502000   \n",
       "max       0.815000     0.650000     1.130000      2.825500        1.488000   \n",
       "\n",
       "       Viscera weight  Shell weight        Rings  \n",
       "count     4177.000000   4177.000000  4177.000000  \n",
       "mean         0.180594      0.238831     9.933684  \n",
       "std          0.109614      0.139203     3.224169  \n",
       "min          0.000500      0.001500     1.000000  \n",
       "25%          0.093500      0.130000     8.000000  \n",
       "50%          0.171000      0.234000     9.000000  \n",
       "75%          0.253000      0.329000    11.000000  \n",
       "max          0.760000      1.005000    29.000000  "
      ]
     },
     "execution_count": 7,
     "metadata": {},
     "output_type": "execute_result"
    }
   ],
   "source": [
    "df.describe()"
   ]
  },
  {
   "cell_type": "markdown",
   "id": "37fbf5c7",
   "metadata": {},
   "source": [
    "# 5.Handle the Missing values."
   ]
  },
  {
   "cell_type": "code",
   "execution_count": 9,
   "id": "5da0e6d3",
   "metadata": {},
   "outputs": [
    {
     "data": {
      "text/plain": [
       "0       False\n",
       "1       False\n",
       "2       False\n",
       "3       False\n",
       "4       False\n",
       "        ...  \n",
       "4172    False\n",
       "4173    False\n",
       "4174    False\n",
       "4175    False\n",
       "4176    False\n",
       "Name: Sex, Length: 4177, dtype: bool"
      ]
     },
     "execution_count": 9,
     "metadata": {},
     "output_type": "execute_result"
    }
   ],
   "source": [
    "data=pd.read_csv(\"C:\\\\Users\\\\Sandhya Jayaraman\\\\Downloads\\\\abalone.csv\")\n",
    "pd.isnull(data[\"Sex\"])"
   ]
  },
  {
   "cell_type": "markdown",
   "id": "17195f93",
   "metadata": {},
   "source": [
    "# 6.Find the outliers and replace the outliers"
   ]
  },
  {
   "cell_type": "code",
   "execution_count": 10,
   "id": "ae64be28",
   "metadata": {},
   "outputs": [
    {
     "data": {
      "text/plain": [
       "0       <function median at 0x000001CA73E62048>\n",
       "1                                             7\n",
       "2                                             9\n",
       "3                                            10\n",
       "4                                             7\n",
       "                         ...                   \n",
       "4172    <function median at 0x000001CA73E62048>\n",
       "4173                                         10\n",
       "4174                                          9\n",
       "4175                                         10\n",
       "4176    <function median at 0x000001CA73E62048>\n",
       "Name: Rings, Length: 4177, dtype: object"
      ]
     },
     "execution_count": 10,
     "metadata": {},
     "output_type": "execute_result"
    }
   ],
   "source": [
    "df[\"Rings\"]=np.where(df[\"Rings\"]>10,np.median,df[\"Rings\"]) \n",
    "df[\"Rings\"]"
   ]
  },
  {
   "cell_type": "markdown",
   "id": "daddf8f3",
   "metadata": {},
   "source": [
    "# 7.Check for Categorical columns and perform encoding"
   ]
  },
  {
   "cell_type": "code",
   "execution_count": 11,
   "id": "6ed25425",
   "metadata": {},
   "outputs": [
    {
     "data": {
      "text/html": [
       "<div>\n",
       "<style scoped>\n",
       "    .dataframe tbody tr th:only-of-type {\n",
       "        vertical-align: middle;\n",
       "    }\n",
       "\n",
       "    .dataframe tbody tr th {\n",
       "        vertical-align: top;\n",
       "    }\n",
       "\n",
       "    .dataframe thead th {\n",
       "        text-align: right;\n",
       "    }\n",
       "</style>\n",
       "<table border=\"1\" class=\"dataframe\">\n",
       "  <thead>\n",
       "    <tr style=\"text-align: right;\">\n",
       "      <th></th>\n",
       "      <th>Diameter</th>\n",
       "      <th>Height</th>\n",
       "      <th>Whole weight</th>\n",
       "      <th>Shucked weight</th>\n",
       "      <th>Viscera weight</th>\n",
       "      <th>Shell weight</th>\n",
       "      <th>Rings</th>\n",
       "      <th>Length_F</th>\n",
       "      <th>Length_I</th>\n",
       "      <th>Length_M</th>\n",
       "      <th>...</th>\n",
       "      <th>Sex_0.745</th>\n",
       "      <th>Sex_0.75</th>\n",
       "      <th>Sex_0.755</th>\n",
       "      <th>Sex_0.76</th>\n",
       "      <th>Sex_0.765</th>\n",
       "      <th>Sex_0.77</th>\n",
       "      <th>Sex_0.775</th>\n",
       "      <th>Sex_0.78</th>\n",
       "      <th>Sex_0.8</th>\n",
       "      <th>Sex_0.815</th>\n",
       "    </tr>\n",
       "  </thead>\n",
       "  <tbody>\n",
       "    <tr>\n",
       "      <th>0</th>\n",
       "      <td>0.365</td>\n",
       "      <td>0.095</td>\n",
       "      <td>0.5140</td>\n",
       "      <td>0.2245</td>\n",
       "      <td>0.1010</td>\n",
       "      <td>0.150</td>\n",
       "      <td>&lt;function median at 0x000001CA73E62048&gt;</td>\n",
       "      <td>0</td>\n",
       "      <td>0</td>\n",
       "      <td>1</td>\n",
       "      <td>...</td>\n",
       "      <td>0</td>\n",
       "      <td>0</td>\n",
       "      <td>0</td>\n",
       "      <td>0</td>\n",
       "      <td>0</td>\n",
       "      <td>0</td>\n",
       "      <td>0</td>\n",
       "      <td>0</td>\n",
       "      <td>0</td>\n",
       "      <td>0</td>\n",
       "    </tr>\n",
       "    <tr>\n",
       "      <th>1</th>\n",
       "      <td>0.265</td>\n",
       "      <td>0.090</td>\n",
       "      <td>0.2255</td>\n",
       "      <td>0.0995</td>\n",
       "      <td>0.0485</td>\n",
       "      <td>0.070</td>\n",
       "      <td>7</td>\n",
       "      <td>0</td>\n",
       "      <td>0</td>\n",
       "      <td>1</td>\n",
       "      <td>...</td>\n",
       "      <td>0</td>\n",
       "      <td>0</td>\n",
       "      <td>0</td>\n",
       "      <td>0</td>\n",
       "      <td>0</td>\n",
       "      <td>0</td>\n",
       "      <td>0</td>\n",
       "      <td>0</td>\n",
       "      <td>0</td>\n",
       "      <td>0</td>\n",
       "    </tr>\n",
       "    <tr>\n",
       "      <th>2</th>\n",
       "      <td>0.420</td>\n",
       "      <td>0.135</td>\n",
       "      <td>0.6770</td>\n",
       "      <td>0.2565</td>\n",
       "      <td>0.1415</td>\n",
       "      <td>0.210</td>\n",
       "      <td>9</td>\n",
       "      <td>1</td>\n",
       "      <td>0</td>\n",
       "      <td>0</td>\n",
       "      <td>...</td>\n",
       "      <td>0</td>\n",
       "      <td>0</td>\n",
       "      <td>0</td>\n",
       "      <td>0</td>\n",
       "      <td>0</td>\n",
       "      <td>0</td>\n",
       "      <td>0</td>\n",
       "      <td>0</td>\n",
       "      <td>0</td>\n",
       "      <td>0</td>\n",
       "    </tr>\n",
       "    <tr>\n",
       "      <th>3</th>\n",
       "      <td>0.365</td>\n",
       "      <td>0.125</td>\n",
       "      <td>0.5160</td>\n",
       "      <td>0.2155</td>\n",
       "      <td>0.1140</td>\n",
       "      <td>0.155</td>\n",
       "      <td>10</td>\n",
       "      <td>0</td>\n",
       "      <td>0</td>\n",
       "      <td>1</td>\n",
       "      <td>...</td>\n",
       "      <td>0</td>\n",
       "      <td>0</td>\n",
       "      <td>0</td>\n",
       "      <td>0</td>\n",
       "      <td>0</td>\n",
       "      <td>0</td>\n",
       "      <td>0</td>\n",
       "      <td>0</td>\n",
       "      <td>0</td>\n",
       "      <td>0</td>\n",
       "    </tr>\n",
       "    <tr>\n",
       "      <th>4</th>\n",
       "      <td>0.255</td>\n",
       "      <td>0.080</td>\n",
       "      <td>0.2050</td>\n",
       "      <td>0.0895</td>\n",
       "      <td>0.0395</td>\n",
       "      <td>0.055</td>\n",
       "      <td>7</td>\n",
       "      <td>0</td>\n",
       "      <td>1</td>\n",
       "      <td>0</td>\n",
       "      <td>...</td>\n",
       "      <td>0</td>\n",
       "      <td>0</td>\n",
       "      <td>0</td>\n",
       "      <td>0</td>\n",
       "      <td>0</td>\n",
       "      <td>0</td>\n",
       "      <td>0</td>\n",
       "      <td>0</td>\n",
       "      <td>0</td>\n",
       "      <td>0</td>\n",
       "    </tr>\n",
       "  </tbody>\n",
       "</table>\n",
       "<p>5 rows × 144 columns</p>\n",
       "</div>"
      ],
      "text/plain": [
       "   Diameter  Height  Whole weight  Shucked weight  Viscera weight  \\\n",
       "0     0.365   0.095        0.5140          0.2245          0.1010   \n",
       "1     0.265   0.090        0.2255          0.0995          0.0485   \n",
       "2     0.420   0.135        0.6770          0.2565          0.1415   \n",
       "3     0.365   0.125        0.5160          0.2155          0.1140   \n",
       "4     0.255   0.080        0.2050          0.0895          0.0395   \n",
       "\n",
       "   Shell weight                                    Rings  Length_F  Length_I  \\\n",
       "0         0.150  <function median at 0x000001CA73E62048>         0         0   \n",
       "1         0.070                                        7         0         0   \n",
       "2         0.210                                        9         1         0   \n",
       "3         0.155                                       10         0         0   \n",
       "4         0.055                                        7         0         1   \n",
       "\n",
       "   Length_M  ...  Sex_0.745  Sex_0.75  Sex_0.755  Sex_0.76  Sex_0.765  \\\n",
       "0         1  ...          0         0          0         0          0   \n",
       "1         1  ...          0         0          0         0          0   \n",
       "2         0  ...          0         0          0         0          0   \n",
       "3         1  ...          0         0          0         0          0   \n",
       "4         0  ...          0         0          0         0          0   \n",
       "\n",
       "   Sex_0.77  Sex_0.775  Sex_0.78  Sex_0.8  Sex_0.815  \n",
       "0         0          0         0        0          0  \n",
       "1         0          0         0        0          0  \n",
       "2         0          0         0        0          0  \n",
       "3         0          0         0        0          0  \n",
       "4         0          0         0        0          0  \n",
       "\n",
       "[5 rows x 144 columns]"
      ]
     },
     "execution_count": 11,
     "metadata": {},
     "output_type": "execute_result"
    }
   ],
   "source": [
    "pd.get_dummies(df,columns=[\"Sex\",\"Length\"],prefix=[\"Length\",\"Sex\"]).head()"
   ]
  },
  {
   "cell_type": "markdown",
   "id": "78677a28",
   "metadata": {},
   "source": [
    "# 8.Split the data into dependent and independent variables"
   ]
  },
  {
   "cell_type": "markdown",
   "id": "ad281556",
   "metadata": {},
   "source": [
    "# 8.1 Split the data into Independent variables."
   ]
  },
  {
   "cell_type": "code",
   "execution_count": 12,
   "id": "3699b11a",
   "metadata": {},
   "outputs": [
    {
     "name": "stdout",
     "output_type": "stream",
     "text": [
      "[['M' 0.455 0.365 ... 0.514 0.2245 0.101]\n",
      " ['M' 0.35 0.265 ... 0.2255 0.0995 0.0485]\n",
      " ['F' 0.53 0.42 ... 0.677 0.2565 0.1415]\n",
      " ...\n",
      " ['M' 0.6 0.475 ... 1.176 0.5255 0.2875]\n",
      " ['F' 0.625 0.485 ... 1.0945 0.531 0.261]\n",
      " ['M' 0.71 0.555 ... 1.9485 0.9455 0.3765]]\n"
     ]
    }
   ],
   "source": [
    "X=df.iloc[:,:-2].values \n",
    "print(X)"
   ]
  },
  {
   "cell_type": "markdown",
   "id": "9e383d31",
   "metadata": {},
   "source": [
    "# 8.2 Split the data into Dependent variables."
   ]
  },
  {
   "cell_type": "code",
   "execution_count": 13,
   "id": "c1139f89",
   "metadata": {},
   "outputs": [
    {
     "name": "stdout",
     "output_type": "stream",
     "text": [
      "[<function median at 0x000001CA73E62048> 7 9 ... 9 10\n",
      " <function median at 0x000001CA73E62048>]\n"
     ]
    }
   ],
   "source": [
    "Y=df.iloc[:,-1].values \n",
    "print(Y)"
   ]
  },
  {
   "cell_type": "markdown",
   "id": "c4d92a22",
   "metadata": {},
   "source": [
    "# 9.Scale the independen tvariables"
   ]
  },
  {
   "cell_type": "code",
   "execution_count": 14,
   "id": "6ffa0eb5",
   "metadata": {},
   "outputs": [],
   "source": [
    "import pandas as pd \n",
    "from sklearn.preprocessing import MinMaxScaler \n",
    "scaler=MinMaxScaler()"
   ]
  },
  {
   "cell_type": "code",
   "execution_count": 15,
   "id": "d3555bea",
   "metadata": {},
   "outputs": [
    {
     "name": "stdout",
     "output_type": "stream",
     "text": [
      "     Sex    Length  Diameter  Height  Whole weight  Shucked weight  \\\n",
      "0      M  0.513514     0.365   0.095        0.5140          0.2245   \n",
      "1      M  0.371622     0.265   0.090        0.2255          0.0995   \n",
      "2      F  0.614865     0.420   0.135        0.6770          0.2565   \n",
      "3      M  0.493243     0.365   0.125        0.5160          0.2155   \n",
      "4      I  0.344595     0.255   0.080        0.2050          0.0895   \n",
      "...   ..       ...       ...     ...           ...             ...   \n",
      "4172   F  0.662162     0.450   0.165        0.8870          0.3700   \n",
      "4173   M  0.695946     0.440   0.135        0.9660          0.4390   \n",
      "4174   M  0.709459     0.475   0.205        1.1760          0.5255   \n",
      "4175   F  0.743243     0.485   0.150        1.0945          0.5310   \n",
      "4176   M  0.858108     0.555   0.195        1.9485          0.9455   \n",
      "\n",
      "      Viscera weight  Shell weight                                    Rings  \n",
      "0             0.1010        0.1500  <function median at 0x000001CA73E62048>  \n",
      "1             0.0485        0.0700                                        7  \n",
      "2             0.1415        0.2100                                        9  \n",
      "3             0.1140        0.1550                                       10  \n",
      "4             0.0395        0.0550                                        7  \n",
      "...              ...           ...                                      ...  \n",
      "4172          0.2390        0.2490  <function median at 0x000001CA73E62048>  \n",
      "4173          0.2145        0.2605                                       10  \n",
      "4174          0.2875        0.3080                                        9  \n",
      "4175          0.2610        0.2960                                       10  \n",
      "4176          0.3765        0.4950  <function median at 0x000001CA73E62048>  \n",
      "\n",
      "[4177 rows x 9 columns]\n"
     ]
    }
   ],
   "source": [
    "df[[\"Length\"]]=scaler.fit_transform(df[[\"Length\"]]) \n",
    "print(df)"
   ]
  },
  {
   "cell_type": "markdown",
   "id": "bdda308e",
   "metadata": {},
   "source": [
    "# 10.Split the data into training and testing"
   ]
  },
  {
   "cell_type": "code",
   "execution_count": 16,
   "id": "af07d7de",
   "metadata": {},
   "outputs": [
    {
     "name": "stdout",
     "output_type": "stream",
     "text": [
      "(3341, 8)\n",
      "(3341,)\n",
      "(418, 8)\n",
      "(418,)\n",
      "(418, 8)\n",
      "(418,)\n"
     ]
    },
    {
     "data": {
      "text/plain": [
       "(None, None)"
      ]
     },
     "execution_count": 16,
     "metadata": {},
     "output_type": "execute_result"
    }
   ],
   "source": [
    "from sklearn.model_selection import train_test_split\n",
    "train_size=0.8\n",
    "X=df.drop(columns=['Sex']).copy()\n",
    "y=df['Sex']\n",
    "X_train,X_rem,y_train,y_rem=train_test_split(X,y,train_size=0.8)\n",
    "test_size=0.5\n",
    "X_valid,X_test,y_valid,y_test=train_test_split(X_rem,y_rem,test_size=0.5)\n",
    "print(X_train.shape),print(y_train.shape)\n",
    "print(X_valid.shape),print(y_valid.shape)\n",
    "print(X_test.shape),print(y_test.shape)"
   ]
  },
  {
   "cell_type": "markdown",
   "id": "0bdc11ef",
   "metadata": {},
   "source": [
    "# 11.Build the Model"
   ]
  },
  {
   "cell_type": "code",
   "execution_count": 18,
   "id": "92f9e198",
   "metadata": {},
   "outputs": [],
   "source": [
    "test_size=0.33 \n",
    "seed=7 \n",
    "X_train,X_test,y_train,y_test=train_test_split(X,y,test_size=test_size,random_state=seed)"
   ]
  },
  {
   "cell_type": "markdown",
   "id": "ef777b73",
   "metadata": {},
   "source": [
    "# 12.Train the model"
   ]
  },
  {
   "cell_type": "code",
   "execution_count": 19,
   "id": "89109c67",
   "metadata": {},
   "outputs": [
    {
     "data": {
      "text/html": [
       "<div>\n",
       "<style scoped>\n",
       "    .dataframe tbody tr th:only-of-type {\n",
       "        vertical-align: middle;\n",
       "    }\n",
       "\n",
       "    .dataframe tbody tr th {\n",
       "        vertical-align: top;\n",
       "    }\n",
       "\n",
       "    .dataframe thead th {\n",
       "        text-align: right;\n",
       "    }\n",
       "</style>\n",
       "<table border=\"1\" class=\"dataframe\">\n",
       "  <thead>\n",
       "    <tr style=\"text-align: right;\">\n",
       "      <th></th>\n",
       "      <th>Length</th>\n",
       "      <th>Diameter</th>\n",
       "      <th>Height</th>\n",
       "      <th>Whole weight</th>\n",
       "      <th>Shucked weight</th>\n",
       "      <th>Viscera weight</th>\n",
       "      <th>Shell weight</th>\n",
       "      <th>Rings</th>\n",
       "    </tr>\n",
       "  </thead>\n",
       "  <tbody>\n",
       "    <tr>\n",
       "      <th>4131</th>\n",
       "      <td>0.682432</td>\n",
       "      <td>0.425</td>\n",
       "      <td>0.145</td>\n",
       "      <td>0.8300</td>\n",
       "      <td>0.3790</td>\n",
       "      <td>0.1605</td>\n",
       "      <td>0.2575</td>\n",
       "      <td>&lt;function median at 0x000001CA73E62048&gt;</td>\n",
       "    </tr>\n",
       "    <tr>\n",
       "      <th>3204</th>\n",
       "      <td>0.797297</td>\n",
       "      <td>0.530</td>\n",
       "      <td>0.185</td>\n",
       "      <td>1.3955</td>\n",
       "      <td>0.4560</td>\n",
       "      <td>0.3205</td>\n",
       "      <td>0.4900</td>\n",
       "      <td>&lt;function median at 0x000001CA73E62048&gt;</td>\n",
       "    </tr>\n",
       "    <tr>\n",
       "      <th>2622</th>\n",
       "      <td>0.844595</td>\n",
       "      <td>0.575</td>\n",
       "      <td>0.205</td>\n",
       "      <td>1.7975</td>\n",
       "      <td>0.7295</td>\n",
       "      <td>0.3935</td>\n",
       "      <td>0.5165</td>\n",
       "      <td>&lt;function median at 0x000001CA73E62048&gt;</td>\n",
       "    </tr>\n",
       "    <tr>\n",
       "      <th>2114</th>\n",
       "      <td>0.074324</td>\n",
       "      <td>0.095</td>\n",
       "      <td>0.035</td>\n",
       "      <td>0.0105</td>\n",
       "      <td>0.0050</td>\n",
       "      <td>0.0065</td>\n",
       "      <td>0.0035</td>\n",
       "      <td>4</td>\n",
       "    </tr>\n",
       "    <tr>\n",
       "      <th>1422</th>\n",
       "      <td>0.871622</td>\n",
       "      <td>0.575</td>\n",
       "      <td>0.215</td>\n",
       "      <td>2.1730</td>\n",
       "      <td>0.9515</td>\n",
       "      <td>0.5640</td>\n",
       "      <td>0.5365</td>\n",
       "      <td>&lt;function median at 0x000001CA73E62048&gt;</td>\n",
       "    </tr>\n",
       "    <tr>\n",
       "      <th>...</th>\n",
       "      <td>...</td>\n",
       "      <td>...</td>\n",
       "      <td>...</td>\n",
       "      <td>...</td>\n",
       "      <td>...</td>\n",
       "      <td>...</td>\n",
       "      <td>...</td>\n",
       "      <td>...</td>\n",
       "    </tr>\n",
       "    <tr>\n",
       "      <th>1372</th>\n",
       "      <td>0.729730</td>\n",
       "      <td>0.475</td>\n",
       "      <td>0.165</td>\n",
       "      <td>1.0230</td>\n",
       "      <td>0.4905</td>\n",
       "      <td>0.1955</td>\n",
       "      <td>0.3035</td>\n",
       "      <td>&lt;function median at 0x000001CA73E62048&gt;</td>\n",
       "    </tr>\n",
       "    <tr>\n",
       "      <th>919</th>\n",
       "      <td>0.452703</td>\n",
       "      <td>0.310</td>\n",
       "      <td>0.090</td>\n",
       "      <td>0.3335</td>\n",
       "      <td>0.1635</td>\n",
       "      <td>0.0610</td>\n",
       "      <td>0.0910</td>\n",
       "      <td>6</td>\n",
       "    </tr>\n",
       "    <tr>\n",
       "      <th>2550</th>\n",
       "      <td>0.277027</td>\n",
       "      <td>0.220</td>\n",
       "      <td>0.080</td>\n",
       "      <td>0.1315</td>\n",
       "      <td>0.0660</td>\n",
       "      <td>0.0240</td>\n",
       "      <td>0.0300</td>\n",
       "      <td>5</td>\n",
       "    </tr>\n",
       "    <tr>\n",
       "      <th>537</th>\n",
       "      <td>0.290541</td>\n",
       "      <td>0.230</td>\n",
       "      <td>0.075</td>\n",
       "      <td>0.1165</td>\n",
       "      <td>0.0430</td>\n",
       "      <td>0.0255</td>\n",
       "      <td>0.0400</td>\n",
       "      <td>7</td>\n",
       "    </tr>\n",
       "    <tr>\n",
       "      <th>1220</th>\n",
       "      <td>0.344595</td>\n",
       "      <td>0.250</td>\n",
       "      <td>0.095</td>\n",
       "      <td>0.2085</td>\n",
       "      <td>0.1020</td>\n",
       "      <td>0.0395</td>\n",
       "      <td>0.0520</td>\n",
       "      <td>7</td>\n",
       "    </tr>\n",
       "  </tbody>\n",
       "</table>\n",
       "<p>2798 rows × 8 columns</p>\n",
       "</div>"
      ],
      "text/plain": [
       "        Length  Diameter  Height  Whole weight  Shucked weight  \\\n",
       "4131  0.682432     0.425   0.145        0.8300          0.3790   \n",
       "3204  0.797297     0.530   0.185        1.3955          0.4560   \n",
       "2622  0.844595     0.575   0.205        1.7975          0.7295   \n",
       "2114  0.074324     0.095   0.035        0.0105          0.0050   \n",
       "1422  0.871622     0.575   0.215        2.1730          0.9515   \n",
       "...        ...       ...     ...           ...             ...   \n",
       "1372  0.729730     0.475   0.165        1.0230          0.4905   \n",
       "919   0.452703     0.310   0.090        0.3335          0.1635   \n",
       "2550  0.277027     0.220   0.080        0.1315          0.0660   \n",
       "537   0.290541     0.230   0.075        0.1165          0.0430   \n",
       "1220  0.344595     0.250   0.095        0.2085          0.1020   \n",
       "\n",
       "      Viscera weight  Shell weight                                    Rings  \n",
       "4131          0.1605        0.2575  <function median at 0x000001CA73E62048>  \n",
       "3204          0.3205        0.4900  <function median at 0x000001CA73E62048>  \n",
       "2622          0.3935        0.5165  <function median at 0x000001CA73E62048>  \n",
       "2114          0.0065        0.0035                                        4  \n",
       "1422          0.5640        0.5365  <function median at 0x000001CA73E62048>  \n",
       "...              ...           ...                                      ...  \n",
       "1372          0.1955        0.3035  <function median at 0x000001CA73E62048>  \n",
       "919           0.0610        0.0910                                        6  \n",
       "2550          0.0240        0.0300                                        5  \n",
       "537           0.0255        0.0400                                        7  \n",
       "1220          0.0395        0.0520                                        7  \n",
       "\n",
       "[2798 rows x 8 columns]"
      ]
     },
     "execution_count": 19,
     "metadata": {},
     "output_type": "execute_result"
    }
   ],
   "source": [
    "X_train"
   ]
  },
  {
   "cell_type": "code",
   "execution_count": 20,
   "id": "d178a96d",
   "metadata": {},
   "outputs": [
    {
     "data": {
      "text/plain": [
       "4131    I\n",
       "3204    F\n",
       "2622    F\n",
       "2114    I\n",
       "1422    M\n",
       "       ..\n",
       "1372    F\n",
       "919     I\n",
       "2550    I\n",
       "537     M\n",
       "1220    I\n",
       "Name: Sex, Length: 2798, dtype: object"
      ]
     },
     "execution_count": 20,
     "metadata": {},
     "output_type": "execute_result"
    }
   ],
   "source": [
    "y_train"
   ]
  },
  {
   "cell_type": "markdown",
   "id": "d8901e6e",
   "metadata": {},
   "source": [
    "# 13.Test the model"
   ]
  },
  {
   "cell_type": "code",
   "execution_count": 21,
   "id": "061b9447",
   "metadata": {},
   "outputs": [
    {
     "data": {
      "text/html": [
       "<div>\n",
       "<style scoped>\n",
       "    .dataframe tbody tr th:only-of-type {\n",
       "        vertical-align: middle;\n",
       "    }\n",
       "\n",
       "    .dataframe tbody tr th {\n",
       "        vertical-align: top;\n",
       "    }\n",
       "\n",
       "    .dataframe thead th {\n",
       "        text-align: right;\n",
       "    }\n",
       "</style>\n",
       "<table border=\"1\" class=\"dataframe\">\n",
       "  <thead>\n",
       "    <tr style=\"text-align: right;\">\n",
       "      <th></th>\n",
       "      <th>Length</th>\n",
       "      <th>Diameter</th>\n",
       "      <th>Height</th>\n",
       "      <th>Whole weight</th>\n",
       "      <th>Shucked weight</th>\n",
       "      <th>Viscera weight</th>\n",
       "      <th>Shell weight</th>\n",
       "      <th>Rings</th>\n",
       "    </tr>\n",
       "  </thead>\n",
       "  <tbody>\n",
       "    <tr>\n",
       "      <th>1157</th>\n",
       "      <td>0.716216</td>\n",
       "      <td>0.470</td>\n",
       "      <td>0.165</td>\n",
       "      <td>1.1775</td>\n",
       "      <td>0.6110</td>\n",
       "      <td>0.2275</td>\n",
       "      <td>0.2920</td>\n",
       "      <td>9</td>\n",
       "    </tr>\n",
       "    <tr>\n",
       "      <th>1125</th>\n",
       "      <td>0.641892</td>\n",
       "      <td>0.425</td>\n",
       "      <td>0.150</td>\n",
       "      <td>0.8315</td>\n",
       "      <td>0.4110</td>\n",
       "      <td>0.1765</td>\n",
       "      <td>0.2165</td>\n",
       "      <td>10</td>\n",
       "    </tr>\n",
       "    <tr>\n",
       "      <th>2053</th>\n",
       "      <td>0.520270</td>\n",
       "      <td>0.345</td>\n",
       "      <td>0.110</td>\n",
       "      <td>0.4595</td>\n",
       "      <td>0.2350</td>\n",
       "      <td>0.0885</td>\n",
       "      <td>0.1160</td>\n",
       "      <td>7</td>\n",
       "    </tr>\n",
       "    <tr>\n",
       "      <th>3591</th>\n",
       "      <td>0.777027</td>\n",
       "      <td>0.475</td>\n",
       "      <td>0.165</td>\n",
       "      <td>1.3875</td>\n",
       "      <td>0.5800</td>\n",
       "      <td>0.3485</td>\n",
       "      <td>0.3095</td>\n",
       "      <td>9</td>\n",
       "    </tr>\n",
       "    <tr>\n",
       "      <th>455</th>\n",
       "      <td>0.675676</td>\n",
       "      <td>0.470</td>\n",
       "      <td>0.140</td>\n",
       "      <td>0.8375</td>\n",
       "      <td>0.3485</td>\n",
       "      <td>0.1735</td>\n",
       "      <td>0.2400</td>\n",
       "      <td>&lt;function median at 0x000001CA73E62048&gt;</td>\n",
       "    </tr>\n",
       "    <tr>\n",
       "      <th>...</th>\n",
       "      <td>...</td>\n",
       "      <td>...</td>\n",
       "      <td>...</td>\n",
       "      <td>...</td>\n",
       "      <td>...</td>\n",
       "      <td>...</td>\n",
       "      <td>...</td>\n",
       "      <td>...</td>\n",
       "    </tr>\n",
       "    <tr>\n",
       "      <th>3150</th>\n",
       "      <td>0.783784</td>\n",
       "      <td>0.505</td>\n",
       "      <td>0.165</td>\n",
       "      <td>1.3670</td>\n",
       "      <td>0.5835</td>\n",
       "      <td>0.3515</td>\n",
       "      <td>0.3960</td>\n",
       "      <td>10</td>\n",
       "    </tr>\n",
       "    <tr>\n",
       "      <th>3037</th>\n",
       "      <td>0.655405</td>\n",
       "      <td>0.450</td>\n",
       "      <td>0.145</td>\n",
       "      <td>0.8940</td>\n",
       "      <td>0.3885</td>\n",
       "      <td>0.2095</td>\n",
       "      <td>0.2640</td>\n",
       "      <td>9</td>\n",
       "    </tr>\n",
       "    <tr>\n",
       "      <th>2050</th>\n",
       "      <td>0.506757</td>\n",
       "      <td>0.350</td>\n",
       "      <td>0.130</td>\n",
       "      <td>0.4655</td>\n",
       "      <td>0.2075</td>\n",
       "      <td>0.1045</td>\n",
       "      <td>0.1350</td>\n",
       "      <td>8</td>\n",
       "    </tr>\n",
       "    <tr>\n",
       "      <th>1690</th>\n",
       "      <td>0.743243</td>\n",
       "      <td>0.500</td>\n",
       "      <td>0.170</td>\n",
       "      <td>1.0985</td>\n",
       "      <td>0.4645</td>\n",
       "      <td>0.2200</td>\n",
       "      <td>0.3540</td>\n",
       "      <td>9</td>\n",
       "    </tr>\n",
       "    <tr>\n",
       "      <th>253</th>\n",
       "      <td>0.675676</td>\n",
       "      <td>0.460</td>\n",
       "      <td>0.185</td>\n",
       "      <td>1.0940</td>\n",
       "      <td>0.4485</td>\n",
       "      <td>0.2170</td>\n",
       "      <td>0.3450</td>\n",
       "      <td>&lt;function median at 0x000001CA73E62048&gt;</td>\n",
       "    </tr>\n",
       "  </tbody>\n",
       "</table>\n",
       "<p>1379 rows × 8 columns</p>\n",
       "</div>"
      ],
      "text/plain": [
       "        Length  Diameter  Height  Whole weight  Shucked weight  \\\n",
       "1157  0.716216     0.470   0.165        1.1775          0.6110   \n",
       "1125  0.641892     0.425   0.150        0.8315          0.4110   \n",
       "2053  0.520270     0.345   0.110        0.4595          0.2350   \n",
       "3591  0.777027     0.475   0.165        1.3875          0.5800   \n",
       "455   0.675676     0.470   0.140        0.8375          0.3485   \n",
       "...        ...       ...     ...           ...             ...   \n",
       "3150  0.783784     0.505   0.165        1.3670          0.5835   \n",
       "3037  0.655405     0.450   0.145        0.8940          0.3885   \n",
       "2050  0.506757     0.350   0.130        0.4655          0.2075   \n",
       "1690  0.743243     0.500   0.170        1.0985          0.4645   \n",
       "253   0.675676     0.460   0.185        1.0940          0.4485   \n",
       "\n",
       "      Viscera weight  Shell weight                                    Rings  \n",
       "1157          0.2275        0.2920                                        9  \n",
       "1125          0.1765        0.2165                                       10  \n",
       "2053          0.0885        0.1160                                        7  \n",
       "3591          0.3485        0.3095                                        9  \n",
       "455           0.1735        0.2400  <function median at 0x000001CA73E62048>  \n",
       "...              ...           ...                                      ...  \n",
       "3150          0.3515        0.3960                                       10  \n",
       "3037          0.2095        0.2640                                        9  \n",
       "2050          0.1045        0.1350                                        8  \n",
       "1690          0.2200        0.3540                                        9  \n",
       "253           0.2170        0.3450  <function median at 0x000001CA73E62048>  \n",
       "\n",
       "[1379 rows x 8 columns]"
      ]
     },
     "execution_count": 21,
     "metadata": {},
     "output_type": "execute_result"
    }
   ],
   "source": [
    "X_test"
   ]
  },
  {
   "cell_type": "code",
   "execution_count": 22,
   "id": "63292181",
   "metadata": {},
   "outputs": [
    {
     "data": {
      "text/plain": [
       "1157    F\n",
       "1125    M\n",
       "2053    M\n",
       "3591    F\n",
       "455     M\n",
       "       ..\n",
       "3150    F\n",
       "3037    M\n",
       "2050    M\n",
       "1690    M\n",
       "253     F\n",
       "Name: Sex, Length: 1379, dtype: object"
      ]
     },
     "execution_count": 22,
     "metadata": {},
     "output_type": "execute_result"
    }
   ],
   "source": [
    "y_test"
   ]
  },
  {
   "cell_type": "markdown",
   "id": "a6051a54",
   "metadata": {},
   "source": [
    "# 14.Measure the performance using Metrics"
   ]
  },
  {
   "cell_type": "code",
   "execution_count": 23,
   "id": "a3cb0e9e",
   "metadata": {},
   "outputs": [
    {
     "name": "stdout",
     "output_type": "stream",
     "text": [
      "RSquared= 0.9656060606060606\n",
      "MAE= 0.42499999999999993\n",
      "MSE= 0.5674999999999999\n"
     ]
    }
   ],
   "source": [
    "from sklearn.metrics import r2_score\n",
    "from sklearn.metrics import mean_absolute_error \n",
    "from sklearn.metrics import mean_squared_error\n",
    "X_train=[5,-1,2,10]\n",
    "y_test=[3.5,-0.9,2,9.9] \n",
    "print('RSquared=',r2_score(X_train,y_test)) \n",
    "print('MAE=',mean_absolute_error(X_train,y_test)) \n",
    "print('MSE=',mean_squared_error(X_train,y_test))"
   ]
  },
  {
   "cell_type": "code",
   "execution_count": null,
   "id": "e4cc59de",
   "metadata": {},
   "outputs": [],
   "source": []
  }
 ],
 "metadata": {
  "kernelspec": {
   "display_name": "Python 3 (ipykernel)",
   "language": "python",
   "name": "python3"
  },
  "language_info": {
   "codemirror_mode": {
    "name": "ipython",
    "version": 3
   },
   "file_extension": ".py",
   "mimetype": "text/x-python",
   "name": "python",
   "nbconvert_exporter": "python",
   "pygments_lexer": "ipython3",
   "version": "3.7.4"
  }
 },
 "nbformat": 4,
 "nbformat_minor": 5
}
